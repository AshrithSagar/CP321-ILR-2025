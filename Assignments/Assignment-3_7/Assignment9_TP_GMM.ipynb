{
  "cells": [
    {
      "cell_type": "markdown",
      "id": "9da7cc52",
      "metadata": {},
      "source": [
        "# CP321-ILR: Assigment-9"
      ]
    },
    {
      "cell_type": "code",
      "execution_count": null,
      "id": "ad124f0b",
      "metadata": {},
      "outputs": [],
      "source": [
        "%reload_ext autoreload\n",
        "%autoreload 2\n",
        "\n",
        "import numpy as np\n",
        "from utils.helpers import load_data3, plot_trajectories\n",
        "from utils.models import TPGMM\n",
        "from utils.utils import *"
      ]
    },
    {
      "cell_type": "markdown",
      "id": "c4d76666-b045-49a1-9337-878de045ec5e",
      "metadata": {
        "id": "c4d76666-b045-49a1-9337-878de045ec5e"
      },
      "source": [
        "# TPGMM Implementation\n",
        "\n",
        "#### theory reference : [1](https://ieeexplore.ieee.org/document/6907339),[2](https://calinon.ch/papers/Calinon-JIST2015.pdf)"
      ]
    },
    {
      "cell_type": "code",
      "execution_count": null,
      "id": "166f4080",
      "metadata": {},
      "outputs": [],
      "source": [
        "Data, time = load_data3(\"c\")"
      ]
    },
    {
      "cell_type": "code",
      "execution_count": null,
      "id": "5c0d1947",
      "metadata": {},
      "outputs": [],
      "source": [
        "As, Bs = plot_trajectories(Data, time)"
      ]
    },
    {
      "cell_type": "code",
      "execution_count": null,
      "id": "83e233f3-f885-49dd-ab7b-0a49fe0b8a47",
      "metadata": {
        "id": "83e233f3-f885-49dd-ab7b-0a49fe0b8a47"
      },
      "outputs": [],
      "source": [
        "mp = TPGMM(As, Bs, 4)\n",
        "mp.fit(Data)"
      ]
    },
    {
      "cell_type": "code",
      "execution_count": null,
      "id": "fd0feb2c-1df3-4069-8981-26bff740a5e2",
      "metadata": {
        "id": "fd0feb2c-1df3-4069-8981-26bff740a5e2"
      },
      "outputs": [],
      "source": [
        "# using old params of trajectory 1\n",
        "A_new, B_new = As[:, 0], Bs[:, 0]\n",
        "mp.plot_gaussians_wrt_frames(Data, A_new, B_new)"
      ]
    },
    {
      "cell_type": "code",
      "execution_count": null,
      "id": "3d2140bf-7a9a-4b8d-99e4-3376480f74b1",
      "metadata": {
        "id": "3d2140bf-7a9a-4b8d-99e4-3376480f74b1"
      },
      "outputs": [],
      "source": [
        "# translating start and end of the trajectory - 2  by -10\n",
        "A_new, B_new = As[:, 1].copy(), Bs[:, 1].copy()\n",
        "B_new[0] = B_new[0] + np.array([0, -10, 0])\n",
        "B_new[1] = B_new[1] + np.array([0, -10, 0])\n",
        "mp.plot_gaussians_wrt_frames(Data, A_new, B_new)"
      ]
    },
    {
      "cell_type": "markdown",
      "id": "94f2dea9",
      "metadata": {},
      "source": [
        "## Dataset \"C\""
      ]
    },
    {
      "cell_type": "markdown",
      "id": "deb973d3",
      "metadata": {},
      "source": [
        "### 1. Different start and end points\n",
        "\n",
        "Try different start and end points for particular trajectory."
      ]
    },
    {
      "cell_type": "markdown",
      "id": "4166f8b4",
      "metadata": {},
      "source": [
        "#### Plots"
      ]
    },
    {
      "cell_type": "code",
      "execution_count": null,
      "id": "2f50a9c3",
      "metadata": {},
      "outputs": [],
      "source": []
    },
    {
      "cell_type": "markdown",
      "id": "f44b5cfd",
      "metadata": {},
      "source": [
        "### 3. Generalization of the algorithm\n",
        "\n",
        "Try changing the `n_mixture` parameter and comment on the generalization of the algorithm."
      ]
    },
    {
      "cell_type": "markdown",
      "id": "9bf77a07",
      "metadata": {},
      "source": [
        "#### Plots"
      ]
    },
    {
      "cell_type": "code",
      "execution_count": null,
      "id": "a167aa12",
      "metadata": {},
      "outputs": [],
      "source": []
    },
    {
      "cell_type": "markdown",
      "id": "962c95e9",
      "metadata": {},
      "source": [
        "#### Analysis"
      ]
    },
    {
      "cell_type": "markdown",
      "id": "e2b05f70",
      "metadata": {},
      "source": []
    },
    {
      "cell_type": "markdown",
      "id": "475e0a93",
      "metadata": {},
      "source": [
        "## Dataset \"J\""
      ]
    },
    {
      "cell_type": "markdown",
      "id": "0fc8e149",
      "metadata": {},
      "source": [
        "### 1. Different start and end points\n",
        "\n",
        "Try different start and end points for particular trajectory."
      ]
    },
    {
      "cell_type": "markdown",
      "id": "3ec712d0",
      "metadata": {},
      "source": [
        "#### Plots"
      ]
    },
    {
      "cell_type": "code",
      "execution_count": null,
      "id": "d2481b21",
      "metadata": {},
      "outputs": [],
      "source": []
    },
    {
      "cell_type": "markdown",
      "id": "e3e3ec5c",
      "metadata": {},
      "source": [
        "### 3. Generalization of the algorithm\n",
        "\n",
        "Try changing the `n_mixture` parameter and comment on the generalization of the algorithm."
      ]
    },
    {
      "cell_type": "markdown",
      "id": "e8da06f1",
      "metadata": {},
      "source": [
        "#### Plots"
      ]
    },
    {
      "cell_type": "code",
      "execution_count": null,
      "id": "153a27b3",
      "metadata": {},
      "outputs": [],
      "source": []
    },
    {
      "cell_type": "markdown",
      "id": "2962bd32",
      "metadata": {},
      "source": [
        "#### Analysis"
      ]
    },
    {
      "cell_type": "markdown",
      "id": "3b383969",
      "metadata": {},
      "source": []
    },
    {
      "cell_type": "markdown",
      "id": "7fe0989b",
      "metadata": {},
      "source": [
        "## Dataset \"S\""
      ]
    },
    {
      "cell_type": "markdown",
      "id": "4c3e7e76",
      "metadata": {},
      "source": [
        "### 1. Different start and end points\n",
        "\n",
        "Try different start and end points for particular trajectory."
      ]
    },
    {
      "cell_type": "markdown",
      "id": "a527e80e",
      "metadata": {},
      "source": [
        "#### Plots"
      ]
    },
    {
      "cell_type": "code",
      "execution_count": null,
      "id": "b119a11b",
      "metadata": {},
      "outputs": [],
      "source": []
    },
    {
      "cell_type": "markdown",
      "id": "edc246c4",
      "metadata": {},
      "source": [
        "### 3. Generalization of the algorithm\n",
        "\n",
        "Try changing the `n_mixture` parameter and comment on the generalization of the algorithm."
      ]
    },
    {
      "cell_type": "markdown",
      "id": "54a01898",
      "metadata": {},
      "source": [
        "#### Plots"
      ]
    },
    {
      "cell_type": "code",
      "execution_count": null,
      "id": "ef5ef4cd",
      "metadata": {},
      "outputs": [],
      "source": []
    },
    {
      "cell_type": "markdown",
      "id": "79181696",
      "metadata": {},
      "source": [
        "#### Analysis"
      ]
    },
    {
      "cell_type": "markdown",
      "id": "3c7f17c7",
      "metadata": {},
      "source": []
    }
  ],
  "metadata": {
    "colab": {
      "provenance": []
    },
    "kernelspec": {
      "display_name": "base",
      "language": "python",
      "name": "python3"
    },
    "language_info": {
      "codemirror_mode": {
        "name": "ipython",
        "version": 3
      },
      "file_extension": ".py",
      "mimetype": "text/x-python",
      "name": "python",
      "nbconvert_exporter": "python",
      "pygments_lexer": "ipython3",
      "version": "3.9.19"
    }
  },
  "nbformat": 4,
  "nbformat_minor": 5
}
