{
  "cells": [
    {
      "cell_type": "markdown",
      "id": "9da7cc52",
      "metadata": {},
      "source": [
        "# CP321-ILR: Assigment-9"
      ]
    },
    {
      "cell_type": "code",
      "execution_count": null,
      "id": "ad124f0b",
      "metadata": {},
      "outputs": [],
      "source": [
        "%reload_ext autoreload\n",
        "%autoreload 2\n",
        "\n",
        "import numpy as np\n",
        "from utils.utils import *\n",
        "\n",
        "np.random.seed(42)"
      ]
    },
    {
      "cell_type": "markdown",
      "id": "c4d76666-b045-49a1-9337-878de045ec5e",
      "metadata": {
        "id": "c4d76666-b045-49a1-9337-878de045ec5e"
      },
      "source": [
        "# TPGMM Implementation\n",
        "\n",
        "#### theory reference : [1](https://ieeexplore.ieee.org/document/6907339),[2](https://calinon.ch/papers/Calinon-JIST2015.pdf)"
      ]
    },
    {
      "cell_type": "code",
      "execution_count": null,
      "id": "B8xy_i5ucmwC",
      "metadata": {
        "id": "B8xy_i5ucmwC"
      },
      "outputs": [],
      "source": [
        "!pip install gmr"
      ]
    },
    {
      "cell_type": "code",
      "execution_count": null,
      "id": "342fba88-fb05-4f27-8fe3-7de5335a4033",
      "metadata": {
        "id": "342fba88-fb05-4f27-8fe3-7de5335a4033"
      },
      "outputs": [],
      "source": [
        "import numpy as np\n",
        "import matplotlib.pyplot as plt\n",
        "from functools import partial\n",
        "import itertools\n",
        "from lasa import load_lasa\n",
        "\n",
        "from gmr import GMM, MVN, plot_error_ellipse, plot_error_ellipses\n",
        "from scipy import optimize"
      ]
    },
    {
      "cell_type": "code",
      "execution_count": null,
      "id": "a2d575db-18a6-44d6-90c1-d4187b1f166e",
      "metadata": {
        "id": "a2d575db-18a6-44d6-90c1-d4187b1f166e"
      },
      "outputs": [],
      "source": [
        "def plot_curves(x, alpha=1):\n",
        "    \"\"\"\n",
        "    plots 2d curves\n",
        "\n",
        "    params:\n",
        "        x: array of shape (number of curves,n_steps_per_curve,2)\n",
        "    \"\"\"\n",
        "    for t in range(x.shape[0]):\n",
        "        plt.scatter(x[t][0, 0], x[t][0, 1], c=\"k\")\n",
        "        plt.scatter(x[t][-1, 0], x[t][-1, 1], c=\"b\")\n",
        "        plt.plot(x[t][:, 0], x[t][:, 1], alpha=alpha)\n",
        "\n",
        "\n",
        "# plotting the transformation axes\n",
        "def plot_frame(A, b, scale=1):\n",
        "    \"\"\"\n",
        "    for plotting x and y axis of frames\n",
        "    \"\"\"\n",
        "    plt.arrow(*b[1:], *(A[1:, 1] * scale), color=\"b\")\n",
        "    plt.arrow(*b[1:], *(A[1:, 2] * scale), color=\"r\")"
      ]
    },
    {
      "cell_type": "code",
      "execution_count": null,
      "id": "1e38f93a-0b2a-422a-abf2-92dc14f562f0",
      "metadata": {
        "id": "1e38f93a-0b2a-422a-abf2-92dc14f562f0"
      },
      "outputs": [],
      "source": [
        "# transformation matrix\n",
        "def getA(a1):\n",
        "    a1 = a1 / np.linalg.norm(a1)\n",
        "    rot_mat = np.array(\n",
        "        [\n",
        "            [np.cos(np.pi / 2), -np.sin(np.pi / 2)],\n",
        "            [np.sin(np.pi / 2), np.cos(np.pi / 2)],\n",
        "        ]\n",
        "    )\n",
        "    a2 = rot_mat @ a1\n",
        "    A = np.eye(3)\n",
        "    A[1:][:, 1] = a1\n",
        "    A[1:][:, 2] = a2\n",
        "    return A"
      ]
    },
    {
      "cell_type": "code",
      "execution_count": null,
      "id": "05475224-f8f1-40d8-b003-17691a463592",
      "metadata": {
        "id": "05475224-f8f1-40d8-b003-17691a463592"
      },
      "outputs": [],
      "source": [
        "# load lasa data, note that here Data is 3 dimension (in additional to space , time dimensional is added)\n",
        "# assumption is that time goes from 0 to 2 sec\n",
        "letter2id = dict(c=2, j=6, s=24)\n",
        "_, x, _, _, _, _ = load_lasa(letter2id[\"c\"])\n",
        "time = np.linspace(0, 2, x.shape[1])\n",
        "time = np.tile(time[None, ..., None], (x.shape[0], 1, 1))\n",
        "Data = np.concatenate([time, x], axis=-1)\n",
        "print(Data.shape)"
      ]
    },
    {
      "cell_type": "code",
      "execution_count": null,
      "id": "d7f47871-9b5b-4693-ac44-f851efe4ad44",
      "metadata": {
        "id": "d7f47871-9b5b-4693-ac44-f851efe4ad44"
      },
      "outputs": [],
      "source": [
        "# plotting trajectories\n",
        "# choosing the frames(x axis of the frames in the direction of starting and ending of trajectory)\n",
        "# As are orientation, Bs are origin of the frames\n",
        "plot_curves(Data[:, :, 1:], alpha=0.5)\n",
        "scale = 10\n",
        "\n",
        "\n",
        "As = []\n",
        "Bs = []\n",
        "for e, d in enumerate(Data):\n",
        "\n",
        "    a1 = (d[100] - d[0])[1:]\n",
        "    A1 = getA(a1)\n",
        "    b1 = d[0]\n",
        "    b1[0] = 0\n",
        "    plot_frame(A1, b1, scale)\n",
        "\n",
        "    a2 = (d[-100] - d[-1])[1:]\n",
        "    A2 = getA(a2)\n",
        "    b2 = d[-1]\n",
        "    b2[0] = 0\n",
        "    plot_frame(A2, b2, scale)\n",
        "\n",
        "    As.append([A1, A2])\n",
        "    Bs.append([b1, b2])\n",
        "\n",
        "\n",
        "As = np.array(As)\n",
        "As = np.transpose(As, (1, 0, 2, 3))\n",
        "Bs = np.array(Bs)\n",
        "Bs = np.transpose(Bs, (1, 0, 2))\n",
        "print(As.shape)\n",
        "print(Bs.shape)"
      ]
    },
    {
      "cell_type": "code",
      "execution_count": null,
      "id": "f27f1647-b11b-4c0f-b8f3-090013546f45",
      "metadata": {
        "id": "f27f1647-b11b-4c0f-b8f3-090013546f45"
      },
      "outputs": [],
      "source": [
        "# not moving frames\n",
        "class TPGMM:\n",
        "    def __init__(self, As, Bs, n_mixture):\n",
        "        \"\"\"\n",
        "        params:\n",
        "            As : array of shape(n_frames,n_trajectories,3,3)\n",
        "            Bs : array of shape(n_frames,n_trajectories,3)\n",
        "            n_mixture: number of gaussians in gaussian mixture\n",
        "        \"\"\"\n",
        "        self.As = As\n",
        "        self.Bs = Bs\n",
        "        self.n_frames = len(As)\n",
        "        self.n_feature = As.shape[-1]\n",
        "        self.n_mixture = n_mixture\n",
        "        self._reg_factor = 1e-15\n",
        "        self._reg_cov = np.eye(self.n_feature) * self._reg_factor\n",
        "\n",
        "    def fit(self, data, max_iter=200, threshold=1e-5):\n",
        "        \"\"\"\n",
        "        step-1 : Transform the data in different frames\n",
        "        step-2 : initialize the gmm parameters\n",
        "\n",
        "        Does EM on transformed data and stores the parameters of the model\n",
        "        input is expected to be aligned with time\n",
        "\n",
        "        params:\n",
        "            X: array of shape (n_trajectories,n_steps,3)\n",
        "        \"\"\"\n",
        "\n",
        "        # store the trajectory as viewed from each frame in variable(\"X\")\n",
        "        # X - shape (n_frames,n_trajectories,n_steps,3)\n",
        "        # hint:X[0]-(n_trajectories,n_steps,3) is the data viewed w.r.t frame 1, X[1] is the the data viewd w.r.t frame 2\n",
        "        ################################\n",
        "        # YOUR CODE HERE\n",
        "\n",
        "        ################################\n",
        "\n",
        "        # initialize means,covars using  self.time_bases_init() method , store them in self.means,self.covars respectively\n",
        "        # self.priors as uniform (equal probability)\n",
        "        ################################\n",
        "        # YOUR CODE HERE\n",
        "\n",
        "        ################################\n",
        "\n",
        "        # reshape X to (n_frames,n_points,3)\n",
        "        X = X.reshape(self.n_frames, -1, self.n_feature)\n",
        "\n",
        "        probabilities = self.gauss_probs(X)\n",
        "        log_likelihood = self._log_likelihood(probabilities)\n",
        "\n",
        "        epoch_idx = 0\n",
        "        while True:\n",
        "            # Expectation step (use self.expectation_step method)\n",
        "            ################################\n",
        "            # YOUR CODE HERE\n",
        "\n",
        "            ################################\n",
        "\n",
        "            # Maximization step (use self.maximization_step method)\n",
        "            ################################\n",
        "            # YOUR CODE HERE\n",
        "\n",
        "            ################################\n",
        "            self.maximization_step(X, h)\n",
        "\n",
        "            # update probabilities and log likelihood\n",
        "            probabilities = self.gauss_probs(X)\n",
        "            updated_log_likelihood = self._log_likelihood(probabilities)\n",
        "\n",
        "            # Logging\n",
        "            difference = updated_log_likelihood - log_likelihood\n",
        "            if np.isnan(difference):\n",
        "                raise ValueError(\"improvement is nan\")\n",
        "\n",
        "            print(\n",
        "                f\"Epoch:{epoch_idx} Log likelihood: {updated_log_likelihood} improvement {difference}\"\n",
        "            )\n",
        "            epoch_idx += 1\n",
        "\n",
        "            # break if threshold is reached or max_iter reached\n",
        "            if difference < threshold or epoch_idx >= max_iter:\n",
        "                if epoch_idx >= max_iter:\n",
        "                    print(\"max_iter reached\")\n",
        "                else:\n",
        "                    print(\"threshold satisfied\")\n",
        "                break\n",
        "\n",
        "            log_likelihood = updated_log_likelihood\n",
        "\n",
        "    def expectation_step(self, probabilities):\n",
        "        \"\"\"\n",
        "        input:\n",
        "            probabilities :  (num_frames, n_components, num_points)\n",
        "        returns:\n",
        "            h : contribution of each gauusian to a point - array of shape (n_mixture,n_points)\n",
        "        \"\"\"\n",
        "\n",
        "        return self._update_h(probabilities)\n",
        "\n",
        "    def maximization_step(self, X, h):\n",
        "        \"\"\"\n",
        "        updates the priors, means, covariances\n",
        "        input:\n",
        "            h : contribution of each gauusian to a point - array of shape (n_mixture,n_points)\n",
        "            X (ndarray): shape: (num_frames, num_points, num_features)\n",
        "\n",
        "        \"\"\"\n",
        "        self._update_priors(h)\n",
        "        self._update_means(X, h)\n",
        "        self._update_covars(X, h)\n",
        "\n",
        "    def time_based_init(self, X):\n",
        "        \"\"\"\n",
        "        initializes params by slicing the data in self.n_mixture parts in time\n",
        "\n",
        "        input:\n",
        "            X : shape of (n_frames,n_traj,n_steps,n_features)\n",
        "        returns:\n",
        "            means: shape -  (n_frames,n_mixture,3)\n",
        "            covars: shape - (n_frames,n_mixture,3,3)\n",
        "        \"\"\"\n",
        "        split_size = X.shape[2] // self.n_mixture\n",
        "        X = np.array(\n",
        "            [\n",
        "                X[:, :, i * split_size : (i + 1) * split_size, :].reshape(\n",
        "                    X.shape[0], -1, X.shape[-1]\n",
        "                )\n",
        "                for i in range(self.n_mixture)\n",
        "            ]\n",
        "        )\n",
        "        means = np.array([np.mean(x, axis=1) for x in X])\n",
        "        means = means.transpose((1, 0, 2))\n",
        "\n",
        "        covars = []\n",
        "        for x in X:\n",
        "            covars.append(np.array([np.cov(x_, rowvar=False) for x_ in x]))\n",
        "        covars = np.array(covars)\n",
        "        covars = covars.transpose((1, 0, 2, 3))\n",
        "\n",
        "        return means, covars\n",
        "\n",
        "    def gauss_probs(self, X):\n",
        "        \"\"\"calculate the gaussian probability for a given data set.\n",
        "\n",
        "        Variable explanation:\n",
        "        D ... number of features\n",
        "\n",
        "        Args:\n",
        "            X (ndarray): data with shape: (num_frames, num_points, num_features)\n",
        "\n",
        "        Returns:\n",
        "            ndarray: probability shape (num_frames, n_components, num_points)\n",
        "        \"\"\"\n",
        "        num_frames, num_points, num_features = X.shape\n",
        "        probs = np.empty((num_frames, self.n_mixture, num_points))\n",
        "\n",
        "        for frame_idx, component_idx in itertools.product(\n",
        "            range(num_frames), range(self.n_mixture)\n",
        "        ):\n",
        "            frame_data = X[frame_idx]\n",
        "            cluster_mean = self.means[frame_idx, component_idx]\n",
        "            cluster_cov = self.covars[frame_idx, component_idx]\n",
        "            probs[frame_idx, component_idx] = MVN(\n",
        "                cluster_mean, cluster_cov\n",
        "            ).to_probability_density(frame_data)\n",
        "        return probs\n",
        "\n",
        "    def _update_h(self, probabilities):\n",
        "        \"\"\"update h as per equations given in the paper\n",
        "\n",
        "        Args:\n",
        "            data (ndarray): shape: (num_frames, num_points, num_features)\n",
        "            probabilities (ndarray): shape (num_frames, n_components, num_points)\n",
        "        Returns:\n",
        "            ndarray: h-parameter. shape: (n_components, num_points(7000))\n",
        "        \"\"\"\n",
        "        ################################\n",
        "        # YOUR CODE HERE\n",
        "\n",
        "        ################################\n",
        "\n",
        "    def _update_priors(self, h):\n",
        "        \"\"\"update priors in self.priors , doesn't return anything\n",
        "\n",
        "        Args:\n",
        "            h (ndarray): shape: (n_components, n_points(7000))\n",
        "        \"\"\"\n",
        "        ################################\n",
        "        # YOUR CODE HERE\n",
        "\n",
        "        ################################\n",
        "\n",
        "    def _update_means(self, X, h):\n",
        "        \"\"\"updates the mean parameter (self.mean), doesn't return anything\n",
        "        Args:\n",
        "            X (ndarray): shape: (num_frames, num_points, num_features)\n",
        "            h (ndarray): shape: (n_components, num_points)\n",
        "        \"\"\"\n",
        "        ################################\n",
        "        # YOUR CODE HERE\n",
        "\n",
        "        ################################\n",
        "\n",
        "    def _update_covars(self, X, h):\n",
        "        \"\"\"updates the covariance parameters\n",
        "        Args:\n",
        "            X (ndarray): shape: (num_frames, num_points, num_features)\n",
        "            h (ndarray): shape: (n_components, num_points)\n",
        "        \"\"\"\n",
        "        num_frames = X.shape[0]\n",
        "        cov = np.empty_like(self.covars)\n",
        "        for frame_idx, component_idx in itertools.product(\n",
        "            range(num_frames), range(self.n_mixture)\n",
        "        ):\n",
        "            frame_data = X[frame_idx]\n",
        "            component_mean = self.means[frame_idx, component_idx]\n",
        "            component_h = h[component_idx]\n",
        "\n",
        "            centered = frame_data - component_mean\n",
        "            # shape: (num_points, num_features, num_features)\n",
        "            mat_aggregation = np.einsum(\"ij,ik->ijk\", centered, centered)\n",
        "            # swap dimensions to: (num_features, num_features, num_points)\n",
        "            mat_aggregation = mat_aggregation.transpose(1, 2, 0)\n",
        "            # weighted sum and division by h. shape: (num_features, num_features)\n",
        "            cov[frame_idx, component_idx] = (\n",
        "                mat_aggregation @ component_h\n",
        "            ) / component_h.sum()\n",
        "\n",
        "        # shape: (num_frames, num_components,num_features, num_features)\n",
        "        self.covars = cov + self._reg_cov\n",
        "\n",
        "    def _log_likelihood(self, probabilities):\n",
        "        \"\"\"calculates the log likelihood of given probabilities\n",
        "\n",
        "        Args:\n",
        "            probabilities (ndarray): shape: (num_frames, n_components, num_points)\n",
        "\n",
        "        Returns:\n",
        "            float: log likelihood\n",
        "        \"\"\"\n",
        "        probabilities = np.prod(probabilities, axis=0)\n",
        "        # reshape to: (num_points, n_components)\n",
        "        probabilities = probabilities.T\n",
        "        weighted_sum = probabilities @ self.priors  # shape (num_points)\n",
        "        return np.sum(np.log(weighted_sum)).item()\n",
        "\n",
        "    def plot_gaussians_wrt_frames(self, Data, As, Bs):\n",
        "        \"\"\"\n",
        "        Plots Projected Gaussians,Product of Gaussians on to Main Frame, and the mean trajectory for the given Parameters\n",
        "\n",
        "        Params:\n",
        "            Data: array of shape (n_traj,n_steps,n_features)\n",
        "            As:array of shape (n_frames,n_features,n_features)\n",
        "            Bs:array of shape (n_frames,n_features)\n",
        "        \"\"\"\n",
        "\n",
        "        # projected means and covariances\n",
        "        projected_means = (As[:, None] @ (self.means[..., None])) + (\n",
        "            Bs[:, None, ..., None]\n",
        "        )\n",
        "        projected_means = projected_means[..., 0]\n",
        "        projected_covars = (\n",
        "            As[:, None] @ self.covars @ np.transpose(As[:, None], (0, 1, 3, 2))\n",
        "        )\n",
        "\n",
        "        # Product of Gaussians\n",
        "        inv_projected_covars = np.linalg.inv(projected_covars)\n",
        "        final_covars = np.linalg.inv(np.sum(inv_projected_covars, axis=0))\n",
        "        final_means = (\n",
        "            final_covars\n",
        "            @ np.sum(inv_projected_covars @ (projected_means[..., None]), 0)\n",
        "        )[..., 0]\n",
        "\n",
        "        # plotting projected Gaussians\n",
        "        splot = plt.subplot(111)\n",
        "        plot_curves(Data[:, :, 1:], alpha=0.2)\n",
        "        for i in range(self.n_frames):\n",
        "            gmm = GMM(\n",
        "                len(self.priors),\n",
        "                self.priors,\n",
        "                projected_means[i][:, 1:],\n",
        "                projected_covars[i][:, 1:, 1:],\n",
        "            )\n",
        "            plot_error_ellipses(splot, gmm, factors=[1])\n",
        "\n",
        "        plt.title(f\"With respect to Main Reference,Projected Gaussians\")\n",
        "        plt.show()\n",
        "\n",
        "        # plotting product of Gaussians\n",
        "        splot = plt.subplot(111)\n",
        "        gmm = GMM(\n",
        "            len(self.priors), self.priors, final_means[:, 1:], final_covars[:, 1:, 1:]\n",
        "        )\n",
        "        plot_curves(Data[:, :, 1:], alpha=0.1)\n",
        "        plot_error_ellipses(splot, gmm, factors=[1])\n",
        "\n",
        "        # mean trajectory with the product of Gaussians\n",
        "        gmm = GMM(len(self.priors), self.priors, final_means, final_covars)\n",
        "        time = np.linspace(0, 2, 1000)\n",
        "        new_traj = gmm.predict([0], time[..., None])\n",
        "        plot_curves(new_traj[None])\n",
        "\n",
        "        plt.title(f\"With respect to Main Reference,Product of Gaussians\")\n",
        "        plt.show()"
      ]
    },
    {
      "cell_type": "code",
      "execution_count": null,
      "id": "83e233f3-f885-49dd-ab7b-0a49fe0b8a47",
      "metadata": {
        "id": "83e233f3-f885-49dd-ab7b-0a49fe0b8a47"
      },
      "outputs": [],
      "source": [
        "mp = TPGMM(As, Bs, 4)\n",
        "mp.fit(Data)"
      ]
    },
    {
      "cell_type": "code",
      "execution_count": null,
      "id": "fd0feb2c-1df3-4069-8981-26bff740a5e2",
      "metadata": {
        "id": "fd0feb2c-1df3-4069-8981-26bff740a5e2"
      },
      "outputs": [],
      "source": [
        "# using old params of trajectory 1\n",
        "A_new, B_new = As[:, 0], Bs[:, 0]\n",
        "mp.plot_gaussians_wrt_frames(Data, A_new, B_new)"
      ]
    },
    {
      "cell_type": "code",
      "execution_count": null,
      "id": "3d2140bf-7a9a-4b8d-99e4-3376480f74b1",
      "metadata": {
        "id": "3d2140bf-7a9a-4b8d-99e4-3376480f74b1"
      },
      "outputs": [],
      "source": [
        "# translating start and end of the trajectory - 2  by -10\n",
        "A_new, B_new = As[:, 1].copy(), Bs[:, 1].copy()\n",
        "B_new[0] = B_new[0] + np.array([0, -10, 0])\n",
        "B_new[1] = B_new[1] + np.array([0, -10, 0])\n",
        "mp.plot_gaussians_wrt_frames(Data, A_new, B_new)"
      ]
    },
    {
      "cell_type": "markdown",
      "id": "94f2dea9",
      "metadata": {},
      "source": [
        "## Dataset \"C\""
      ]
    },
    {
      "cell_type": "markdown",
      "id": "deb973d3",
      "metadata": {},
      "source": [
        "### 1. Different start and end points\n",
        "\n",
        "Try different start and end points for particular trajectory."
      ]
    },
    {
      "cell_type": "markdown",
      "id": "4166f8b4",
      "metadata": {},
      "source": [
        "#### Plots"
      ]
    },
    {
      "cell_type": "code",
      "execution_count": null,
      "id": "2f50a9c3",
      "metadata": {},
      "outputs": [],
      "source": []
    },
    {
      "cell_type": "markdown",
      "id": "f44b5cfd",
      "metadata": {},
      "source": [
        "### 3. Generalization of the algorithm\n",
        "\n",
        "Try changing the `n_mixture` parameter and comment on the generalization of the algorithm."
      ]
    },
    {
      "cell_type": "markdown",
      "id": "9bf77a07",
      "metadata": {},
      "source": [
        "#### Plots"
      ]
    },
    {
      "cell_type": "code",
      "execution_count": null,
      "id": "a167aa12",
      "metadata": {},
      "outputs": [],
      "source": []
    },
    {
      "cell_type": "markdown",
      "id": "962c95e9",
      "metadata": {},
      "source": [
        "#### Analysis"
      ]
    },
    {
      "cell_type": "markdown",
      "id": "e2b05f70",
      "metadata": {},
      "source": []
    },
    {
      "cell_type": "markdown",
      "id": "475e0a93",
      "metadata": {},
      "source": [
        "## Dataset \"J\""
      ]
    },
    {
      "cell_type": "markdown",
      "id": "0fc8e149",
      "metadata": {},
      "source": [
        "### 1. Different start and end points\n",
        "\n",
        "Try different start and end points for particular trajectory."
      ]
    },
    {
      "cell_type": "markdown",
      "id": "3ec712d0",
      "metadata": {},
      "source": [
        "#### Plots"
      ]
    },
    {
      "cell_type": "code",
      "execution_count": null,
      "id": "d2481b21",
      "metadata": {},
      "outputs": [],
      "source": []
    },
    {
      "cell_type": "markdown",
      "id": "e3e3ec5c",
      "metadata": {},
      "source": [
        "### 3. Generalization of the algorithm\n",
        "\n",
        "Try changing the `n_mixture` parameter and comment on the generalization of the algorithm."
      ]
    },
    {
      "cell_type": "markdown",
      "id": "e8da06f1",
      "metadata": {},
      "source": [
        "#### Plots"
      ]
    },
    {
      "cell_type": "code",
      "execution_count": null,
      "id": "153a27b3",
      "metadata": {},
      "outputs": [],
      "source": []
    },
    {
      "cell_type": "markdown",
      "id": "2962bd32",
      "metadata": {},
      "source": [
        "#### Analysis"
      ]
    },
    {
      "cell_type": "markdown",
      "id": "3b383969",
      "metadata": {},
      "source": []
    },
    {
      "cell_type": "markdown",
      "id": "7fe0989b",
      "metadata": {},
      "source": [
        "## Dataset \"S\""
      ]
    },
    {
      "cell_type": "markdown",
      "id": "4c3e7e76",
      "metadata": {},
      "source": [
        "### 1. Different start and end points\n",
        "\n",
        "Try different start and end points for particular trajectory."
      ]
    },
    {
      "cell_type": "markdown",
      "id": "a527e80e",
      "metadata": {},
      "source": [
        "#### Plots"
      ]
    },
    {
      "cell_type": "code",
      "execution_count": null,
      "id": "b119a11b",
      "metadata": {},
      "outputs": [],
      "source": []
    },
    {
      "cell_type": "markdown",
      "id": "edc246c4",
      "metadata": {},
      "source": [
        "### 3. Generalization of the algorithm\n",
        "\n",
        "Try changing the `n_mixture` parameter and comment on the generalization of the algorithm."
      ]
    },
    {
      "cell_type": "markdown",
      "id": "54a01898",
      "metadata": {},
      "source": [
        "#### Plots"
      ]
    },
    {
      "cell_type": "code",
      "execution_count": null,
      "id": "ef5ef4cd",
      "metadata": {},
      "outputs": [],
      "source": []
    },
    {
      "cell_type": "markdown",
      "id": "79181696",
      "metadata": {},
      "source": [
        "#### Analysis"
      ]
    },
    {
      "cell_type": "markdown",
      "id": "3c7f17c7",
      "metadata": {},
      "source": []
    }
  ],
  "metadata": {
    "colab": {
      "provenance": []
    },
    "kernelspec": {
      "display_name": "base",
      "language": "python",
      "name": "python3"
    },
    "language_info": {
      "codemirror_mode": {
        "name": "ipython",
        "version": 3
      },
      "file_extension": ".py",
      "mimetype": "text/x-python",
      "name": "python",
      "nbconvert_exporter": "python",
      "pygments_lexer": "ipython3",
      "version": "3.9.19"
    }
  },
  "nbformat": 4,
  "nbformat_minor": 5
}
