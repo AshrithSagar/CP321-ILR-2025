{
  "cells": [
    {
      "cell_type": "markdown",
      "id": "XMJUrUWNKout",
      "metadata": {
        "id": "XMJUrUWNKout"
      },
      "source": [
        "#DMP Theory"
      ]
    },
    {
      "cell_type": "markdown",
      "id": "0_IeVg-yKnir",
      "metadata": {
        "id": "0_IeVg-yKnir"
      },
      "source": [
        "In a DMP, the demonstrated motion with one degree of freedom (DoF) is modeled as a spring-damper system.\n",
        "\n",
        "\\begin{equation}\n",
        "    \\tau^2 \\ddot{x} = \\alpha_x(\\beta_x(g-x)-\\tau\\dot{x})+f\n",
        "\\end{equation}\n",
        "\n",
        "where $x$ is the state of the system, $f$ is the forcing function that determines the nonlinear behavior, $\\alpha_x$ and $\\beta_x$ are constants that determine the damping and spring behavior, respectively.$\\tau$ is a constant that determines the temporal behavior, and $g$ denotes the goal state. \\\\\n",
        "\n",
        "\\\\\n",
        "\n",
        "The time is modelled by a phase variable $z$ as follows:\n",
        "\\begin{equation}\n",
        "    \\tau \\dot z = -\\alpha_z z\n",
        "\\end{equation}\n",
        "In this case, the phase variable $z$ is given by a function of time t\n",
        "\\begin{equation}\n",
        "    z(t) = z_0 exp(-\\frac{\\alpha_z}{\\tau}t)\n",
        "\\end{equation}\n",
        "Typically, the phase variable  $z \\in [0, 1]$. \\\\\n",
        "\n",
        "\\\\\n",
        "\n",
        "\n",
        "Using a Gaussian basis function with this phase variable $z$, the forcing function $f$ can be formulated as\n",
        "\\begin{equation}\n",
        "    f(z) = (g-x_0)\\sum_{i=1}^M\\psi_i(z)w_iz\n",
        "\\end{equation}\n",
        "where $x_0$ denotes the initial position and $M$ the number of the basis\n",
        "functions. The Gaussian basis function $\\psi_i(z)$ is given by\n",
        "\\begin{equation}\n",
        "    \\psi_i(z) = \\frac{exp(-h_i(z-c_i)^2)}{\\sum_{j=i}^Mexp(-h_j(z-c_j)^2)}\n",
        "\\end{equation}\n",
        "where $h_i$ and $c_i$ are constants that determine the width and centers of\n",
        "the basis functions, respectively. \\\\\n",
        "\n",
        "\\\\\n",
        "\n",
        "$\\textbf{Important Note(hyperparameters):}$ While implementing the basis functions make sure that the centers of the gaussians are equally spaced in time (not in phase domain) and $h_i = M/c_i$ , $z_0=1$ , $\\beta_x=\\frac{\\alpha_x}{4}$ , $\\alpha_z = \\frac{\\alpha_x}{3}$ and $\\alpha_x=25$. \\\\\n",
        "\n",
        "\\\\\n",
        "\n",
        "\n",
        "To obtain the weight parameters in a DMP, we compute the target value of the forcing function from the given trajectory as  \\\\\n",
        "\n",
        "\\begin{equation}\n",
        "    f_{target}(z(t)) = \\tau^2\\ddot{x}^{demo}(t)-\\alpha_x(\\beta_x(g-x^{demo}(t))-\\tau\\dot{x}^{demo}(t))\n",
        "\\end{equation} \\\\\n",
        "where $x^{demo}(t), \\dot{x}^{demo}(t), \\ddot{x}^{demo}(t)$ are the position, velocity and acceleration at the time $t$, respectively.  \n",
        "\n",
        "\\\\\n",
        "\n",
        "We can find the weight vector by minimizing the sum of the squared error.\n",
        "\n",
        "\\begin{equation}\n",
        "    L_{DMP} = \\sum_{t=0}^T(f_{target}(z(t))-f(z(t)))^2\n",
        "\\end{equation}\n",
        "\n",
        "by solving the least squares solution we get\n",
        "\n",
        "\\begin{equation}\n",
        "    w = (\\Phi^T\\Phi)^{-1}\\Phi^TF\n",
        "\\end{equation}\n",
        "\n",
        "where $\\Phi_{i,j} = \\psi_j(z(t_i))*z(t_i)$ and  \\\\\n",
        "\n",
        "\\begin{equation}\n",
        "    F=[\\frac{f_{target}(0)}{(g-x_0)},\\cdots,\\frac{f_{target}(t)}{(g-x_0)},\\cdots,\\frac{f_{target}(T)}{(g-x_0)}]\n",
        "\\end{equation}\n",
        "\n",
        "$\\textbf{Important Note(dimensionality):}$ Since DMPs are primarily designed\n",
        "for learning a motion for a single degree of freedom, multiple DMPs\n",
        "need to be learned for each dimension when learning motions with multiple dimensions. \\\\"
      ]
    },
    {
      "cell_type": "markdown",
      "id": "eW_-KZidn9N4",
      "metadata": {
        "id": "eW_-KZidn9N4"
      },
      "source": [
        "# Add the lasa.py file in same directory as the jupyter notebook"
      ]
    },
    {
      "cell_type": "code",
      "execution_count": null,
      "id": "db069aba-02cf-4d7b-9fe8-75d86e20ef13",
      "metadata": {
        "id": "db069aba-02cf-4d7b-9fe8-75d86e20ef13"
      },
      "outputs": [],
      "source": [
        "import numpy as np\n",
        "import matplotlib.pyplot as plt\n",
        "from functools import partial\n",
        "from lasa import load_lasa"
      ]
    },
    {
      "cell_type": "code",
      "execution_count": null,
      "id": "05ca84a0-9c67-47b1-9d5f-12e6c32a5b2f",
      "metadata": {
        "id": "05ca84a0-9c67-47b1-9d5f-12e6c32a5b2f"
      },
      "outputs": [],
      "source": [
        "#HELPER FUNCTIONS\n",
        "\n",
        "def plot_curves(x,show_start_end=True,**kwargs):\n",
        "    '''\n",
        "    plots 2d curves of trajectories\n",
        "\n",
        "    params:\n",
        "        x: array of shape (number of curves,n_steps_per_curve,2)\n",
        "    '''\n",
        "    if show_start_end:\n",
        "        start_label,end_label = \"start\",\"end\"\n",
        "    else:\n",
        "        start_label,end_label = None,None\n",
        "    for t in range(x.shape[0]):\n",
        "        plt.scatter(x[t][0,0],x[t][0,1],c='k',label=start_label)\n",
        "        plt.scatter(x[t][-1,0],x[t][-1,1],c='b',label=end_label)\n",
        "        plt.plot(x[t][:,0],x[t][:,1],**kwargs)\n",
        "        if t==0:\n",
        "            kwargs.pop(\"label\",None)\n",
        "            start_label,end_label = None,None\n",
        "\n",
        "    plt.legend()\n",
        "\n",
        "\n",
        "def streamplot(f,x_axis=(0,100),y_axis=(0,100),n=1000,width=1,**kwargs):\n",
        "    '''\n",
        "    helps visualizing the vector field.\n",
        "\n",
        "    params:\n",
        "        f: function to predict the velocities in DS(Dynamical system : x_dot = f(x),x of shape (n_points,2),x_dot of shape (n_points,2))\n",
        "        x_axis: x axis limits\n",
        "        y_axis: y axis limits\n",
        "        n: number of points in each axis (so total n*n predictions happen)\n",
        "        width: width of the vector\n",
        "        **kwargs: goes into plt.streamplot\n",
        "    '''\n",
        "    a,b = np.linspace(x_axis[0],x_axis[1],n),np.linspace(y_axis[0],y_axis[1],n)\n",
        "    X,Y = np.meshgrid(a,b)\n",
        "    X_test = np.stack([X,Y],axis=-1).reshape(-1,2)\n",
        "    Y_pred = f(X_test)\n",
        "    U,V = np.split(Y_pred.reshape(n,n,2),2,axis=-1)\n",
        "    U,V = U[...,0],V[...,0]\n",
        "    speed = np.sqrt(U**2+V**2)\n",
        "    lw = width*speed / speed.max()\n",
        "    plt.streamplot(X,Y,U,V,linewidth=lw,**kwargs)\n",
        "\n",
        "#loading the data and plotting\n",
        "def load_data(letter):\n",
        "    '''\n",
        "    gets the trajectories coresponding to the given letter\n",
        "\n",
        "    params:\n",
        "      letter: character in [\"c\",\"j\",\"s\"]\n",
        "\n",
        "    returns:\n",
        "      data: array of shape (number of trajectories,number of timesteps,2)\n",
        "      x: array of shape(number of trajectories*number of timesteps,2)\n",
        "      xd: array of shape(number of trajectories*number of timesteps,2)\n",
        "\n",
        "    '''\n",
        "    letter2id = dict(c=2,j=6,s=24)\n",
        "    assert letter.lower() in letter2id\n",
        "    _,data,_,_,_,_ = load_lasa(letter2id[letter.lower()])\n",
        "    return data"
      ]
    },
    {
      "cell_type": "code",
      "execution_count": null,
      "id": "bce39f67-e5ae-4901-bc88-4272203afeef",
      "metadata": {
        "id": "bce39f67-e5ae-4901-bc88-4272203afeef"
      },
      "outputs": [],
      "source": [
        "data = load_data(\"s\")"
      ]
    },
    {
      "cell_type": "markdown",
      "id": "CwlfaPzAoQZJ",
      "metadata": {
        "id": "CwlfaPzAoQZJ"
      },
      "source": [
        "# 1Q. Plot all the Trajectories (10 Marks)"
      ]
    },
    {
      "cell_type": "code",
      "execution_count": null,
      "id": "IZXOWVWpoXhv",
      "metadata": {
        "id": "IZXOWVWpoXhv"
      },
      "outputs": [],
      "source": [
        "################################\n",
        "#YOUR CODE HERE\n",
        "\n",
        "################################"
      ]
    },
    {
      "cell_type": "code",
      "execution_count": null,
      "id": "9fc483ea-c6fd-4f13-ac82-1f880b0c88b8",
      "metadata": {
        "id": "9fc483ea-c6fd-4f13-ac82-1f880b0c88b8"
      },
      "outputs": [],
      "source": [
        "#get a single trajectory from data\n",
        "x = data[0]\n",
        "x0,g = x[0],x[-1]"
      ]
    },
    {
      "cell_type": "markdown",
      "id": "wfViuwgPonEb",
      "metadata": {
        "id": "wfViuwgPonEb"
      },
      "source": [
        "# 2Q. DMP IMPLEMENTATION (50 Marks)\n",
        "## please fill the code in the 'YOUR CODE HERE' section\n",
        "## information about the hyperparameters and theory is given in the question paper"
      ]
    },
    {
      "cell_type": "code",
      "execution_count": null,
      "id": "eb96b88f-edcb-4e8b-869c-185b37f709ac",
      "metadata": {
        "id": "eb96b88f-edcb-4e8b-869c-185b37f709ac"
      },
      "outputs": [],
      "source": [
        "class DMP():\n",
        "    def __init__(self,alpha,n_features):\n",
        "        '''\n",
        "        set the hyperparameters\n",
        "        '''\n",
        "        #set the hyperparameters from the inputs\n",
        "        #self.alpha,self.beta,self.alpha_z,self.n_features\n",
        "        #information about the values of the parameters is given in the theory part\n",
        "        ################################\n",
        "        #YOUR CODE HERE\n",
        "\n",
        "        ################################\n",
        "\n",
        "\n",
        "    def derivative(self,x):\n",
        "        '''\n",
        "        difference method for calculating derivative\n",
        "\n",
        "        params:\n",
        "          x: array of shape (number of trajectories,number of timesteps,2)\n",
        "\n",
        "        returns\n",
        "          xd: array of shape (number of trajectories,number of timesteps,2)\n",
        "        '''\n",
        "        T,ndims = x.shape\n",
        "        return np.vstack((np.zeros((1, ndims)), np.diff(x, axis=0) / self._dt))\n",
        "\n",
        "\n",
        "    def get_features(self,z,cz,hz):\n",
        "        '''\n",
        "        Returns the PSI matrix as given in the theory part\n",
        "\n",
        "        input:\n",
        "            z : array of shape (n_steps,)\n",
        "            cz: centers of gaussian in phase domain ,array of shape(n_features,)\n",
        "            hz: scaling factor for each of the gaussian ,array of shape (n_features,)\n",
        "        returns:\n",
        "            features: array of shape (n_steps,n_features)\n",
        "        '''\n",
        "        ################################\n",
        "        #YOUR CODE HERE\n",
        "\n",
        "        ################################\n",
        "\n",
        "\n",
        "    def fit(self,x):\n",
        "        '''\n",
        "        learn the weight vector from LeastSquares,store the weight vectors in self.w (array of shape\n",
        "\n",
        "        input\n",
        "            x: trajectory data (n_steps,2)\n",
        "\n",
        "        '''\n",
        "\n",
        "        #set x0 (starting point) , g(goal point) in self.x0,self.g respectively.\n",
        "        #assumption is that g(goal point) is the end of the trajectory , and x0 is the start of the trajectory\n",
        "        #self.x (array of shape (n_steps,2) , self.x0 (array of shape (2,)) , self.g (array of shape (2,))\n",
        "        ################################\n",
        "        #YOUR CODE HERE\n",
        "\n",
        "        ################################\n",
        "\n",
        "\n",
        "        self.T_train = 1.0\n",
        "        self._dt = self.T_train/(x.shape[0]-1)\n",
        "\n",
        "\n",
        "        #get the speed and acceleration using self.derivative method and store it in self.xd,self.xdd\n",
        "        #self.xd (array of shape (n_steps,2)),self.xdd (array of shape (n_steps,2))\n",
        "        ################################\n",
        "        #YOUR CODE HERE\n",
        "\n",
        "        ################################\n",
        "\n",
        "\n",
        "        #calulate f_target as mentioned in the theory part and store in \"f_target\" variable\n",
        "        #f_target (array of shape (n_steps,2))\n",
        "        ################################\n",
        "        #YOUR CODE HERE\n",
        "\n",
        "        ################################\n",
        "\n",
        "\n",
        "        #set the centers,scaling for basis functions in self.cz,self.hz variables (Note that equal spacing in time domain ,not in phase domain)\n",
        "        #information about self.hz  (scaling parameter) is given in the theory part\n",
        "        #self.cz (array of shape (n_features,)),self.hz (array of shape(n_features,))\n",
        "        ################################\n",
        "        #YOUR CODE HERE\n",
        "\n",
        "        ################################\n",
        "\n",
        "\n",
        "        t = np.linspace(0,self.T_train,x.shape[0])\n",
        "        z = np.exp(-self.alpha_z*t)\n",
        "        #store the feature matrix in \"feature\" variable, use the get_features method.\n",
        "        #features (array of shape (n_steps,n_features))\n",
        "        ################################\n",
        "        #YOUR CODE HERE\n",
        "\n",
        "        ################################\n",
        "\n",
        "\n",
        "        #get the weight vectors using leastsquares(can also use np.linalg.pinv) and store in self.w\n",
        "        #self.w (array of shape (n_features,2))\n",
        "        ################################\n",
        "        #YOUR CODE HERE\n",
        "\n",
        "        ################################\n",
        "\n",
        "\n",
        "    def f_external(self,z):\n",
        "        '''\n",
        "        once we have the weight vector,get the control function.\n",
        "\n",
        "        input:\n",
        "            z: float (phase variable)\n",
        "        output\n",
        "            f_ext: array of shape (2,) (for both x1,x2)\n",
        "        '''\n",
        "        cz = self.cz\n",
        "        hz = self.hz\n",
        "        #here cz is the centers of the gaussians, hz are the scaling factors\n",
        "        #forcing function definition given in the theory part\n",
        "        ################################\n",
        "        #YOUR CODE HERE\n",
        "\n",
        "        ################################\n",
        "\n",
        "\n",
        "    def ode_differential(self,x,t,f_ext):\n",
        "        '''spring-mass dynamcis\n",
        "        used for rk4 simulation later ,f_ext is function of z\n",
        "\n",
        "        input :\n",
        "            x : array of shape (5,) where 5 dimension where x is x1,x2,x1_dot,x2_dot,z\n",
        "            t : float >=0.0 (dummy parameter , you will not be using this)\n",
        "            f_ext : function that takes z as input and returns 2 dimensional array (control forces for x1,x2)\n",
        "        output: array of shape (5,) where 5 dimension where x is x1_dot,x2_dot,x1_dot_dot,x2_dot_dot,z_dot\n",
        "        '''\n",
        "        alpha,beta,alpha_z,tau = self.alpha,self.beta,self.alpha_z,self.tau\n",
        "        #Use the above hyperparameters for dynamical system\n",
        "        ################################\n",
        "        #YOUR CODE HERE\n",
        "\n",
        "        ################################\n",
        "\n",
        "\n",
        "    def imitate(self,x0=None,g=None,tau=1.0):\n",
        "        '''\n",
        "        after learning , we can change the starting position and the ending position for imitation,\n",
        "        temporal variation is done by tau\n",
        "        '''\n",
        "        if x0 is not None:self.x0 =x0\n",
        "        if g is not None: self.g = g\n",
        "        self.tau = tau\n",
        "\n",
        "        #function to use for controller\n",
        "        f_ext = self.f_external\n",
        "\n",
        "        #dynamics function\n",
        "        f_diff = partial(self.ode_differential,f_ext=f_ext)\n",
        "\n",
        "        #inital point with zero velocity,zeros acceleration\n",
        "        x_initial = np.array([self.x0[0],self.x0[1],0.,0.,1.0])\n",
        "\n",
        "        #rk4 simulation, till convergence\n",
        "        x_rk4,t_rk4 = self.rk4_sim(0,x_initial,f_diff)\n",
        "\n",
        "        #plotting\n",
        "        plt.plot(x_rk4[:,0],x_rk4[:,1],label=\"dmp\")\n",
        "        plt.plot(self.x[:,0],self.x[:,1],label = \"original\")\n",
        "        plt.legend()\n",
        "        plt.show()\n",
        "\n",
        "    def rk4_sim(self,t0,x0,f,dt=1e-3,max_iter=1e5):\n",
        "        '''\n",
        "        simlution done with rk4\n",
        "\n",
        "        Returns\n",
        "        -------\n",
        "        x : shape (n_steps,5)\n",
        "        t : shape - (n_steps,)\n",
        "        '''\n",
        "\n",
        "        # Calculate slopes\n",
        "        x,t = x0,t0\n",
        "        x_list,t_list = [x0],[t0]\n",
        "        i = 0\n",
        "        while np.linalg.norm(x[:2]-self.g)>5e-1:\n",
        "            k1 = dt*f(x,t)\n",
        "            k2 = dt*f(x+k1/2.,t+dt/2. )\n",
        "            k3 = dt*f(x+k2/2.,t+dt/2. )\n",
        "            k4 = dt*f(x+k3 , t+dt )\n",
        "\n",
        "            # Calculate new x and y\n",
        "            x = x + 1./6*(k1+2*k2+2*k3+k4)\n",
        "            t = t + dt\n",
        "            x_list.append(x)\n",
        "            t_list.append(t)\n",
        "            i+=1\n",
        "            if i>=max_iter:\n",
        "                print(\"MAX ITER REACHED : taking too long to converge\")\n",
        "                print(f\"simulated for {t} seconds\")\n",
        "                return\n",
        "        print(f\"Took {t} seconds to reach the goal\")\n",
        "\n",
        "        return np.array(x_list),np.array(t_list)\n"
      ]
    },
    {
      "cell_type": "code",
      "execution_count": null,
      "id": "24d96881-f21c-446d-9258-6e35b146308b",
      "metadata": {
        "id": "24d96881-f21c-446d-9258-6e35b146308b"
      },
      "outputs": [],
      "source": [
        "#train the dmp model\n",
        "alpha=25\n",
        "n_features = 10\n",
        "dmp = DMP(alpha,n_features)\n",
        "dmp.fit(x)"
      ]
    },
    {
      "cell_type": "code",
      "execution_count": null,
      "id": "cfa5bb63-d93c-4d84-8727-d2a9d47aacb5",
      "metadata": {
        "id": "cfa5bb63-d93c-4d84-8727-d2a9d47aacb5"
      },
      "outputs": [],
      "source": [
        "#imitation for training configuration\n",
        "x0,g = x[0],x[-1]\n",
        "tau = 1.0\n",
        "dmp.imitate(x0,g,tau)"
      ]
    },
    {
      "cell_type": "markdown",
      "id": "2qNqO7X3pNMl",
      "metadata": {
        "id": "2qNqO7X3pNMl"
      },
      "source": [
        "# 3Q. SPATIAL VARIATION (15 Marks)\n",
        "\n",
        "## Try 5 different configurations of starting and goal positions and plot the generated trajectories.Comment on the generalization and stability."
      ]
    },
    {
      "cell_type": "code",
      "execution_count": null,
      "id": "0fe8aebd-bc85-4259-9945-6631b532dc0e",
      "metadata": {
        "id": "0fe8aebd-bc85-4259-9945-6631b532dc0e"
      },
      "outputs": [],
      "source": [
        "################################\n",
        "#YOUR CODE HERE\n",
        "\n",
        "################################"
      ]
    },
    {
      "cell_type": "markdown",
      "id": "uNESD1sAqhP9",
      "metadata": {
        "id": "uNESD1sAqhP9"
      },
      "source": [
        "# 4Q. TEMPORAL VARIATION (15 Marks)\n",
        "\n",
        "## from the training configuration($\\textbf{x0}=x[0],\\textbf{g}=x[-1]$), try $5$ different $\\tau \\gt 0$ (temporal parameter in the algorithm), some greater than 1 and some less than 1.Note down the approximate time taken for the generated trajectories to converge. Comment on the effect of temporal parameter.\n"
      ]
    },
    {
      "cell_type": "code",
      "execution_count": null,
      "id": "RRIAUEZmqX_z",
      "metadata": {
        "id": "RRIAUEZmqX_z"
      },
      "outputs": [],
      "source": [
        "################################\n",
        "#YOUR CODE HERE\n",
        "\n",
        "################################\n"
      ]
    },
    {
      "cell_type": "markdown",
      "id": "VC3kA9rJNXs6",
      "metadata": {
        "id": "VC3kA9rJNXs6"
      },
      "source": [
        "# 5Q.\n",
        "Discuss and compare the following methods in the context of dynamic movement primitives (DMPs): DMP, SEDS, ProMP, TP-GMM, and TP-GPT. In your answer, analyze how each method addresses two key aspects:\n",
        "\n",
        "Stability: How does the method ensure convergence or robustness in generating movements?\n",
        "\n",
        "Generalization: How effectively does the method adapt to variations or new conditions beyond the training demonstrations?\n",
        "\n",
        "Present your analysis in a table format with the rows representing each method (DMP, SEDS, ProMP, TP-GMM, TP-GPT) and the columns for Stability and Generalization. Be sure to critically evaluate the strengths and weaknesses of each approach in these dimensions.. (10 Marks)"
      ]
    },
    {
      "cell_type": "markdown",
      "id": "SM9obRldr2Cb",
      "metadata": {
        "id": "SM9obRldr2Cb"
      },
      "source": [
        "# Submission details\n",
        "\n",
        "please submit the copy of this file with the naming convention **SRNO(5digit)_MIDTERM.ipynb**  \n",
        "\n",
        "example: 22592_MIDTERM.ipynb"
      ]
    },
    {
      "cell_type": "code",
      "execution_count": null,
      "id": "ZM5ho2UPrP_P",
      "metadata": {
        "id": "ZM5ho2UPrP_P"
      },
      "outputs": [],
      "source": []
    }
  ],
  "metadata": {
    "colab": {
      "provenance": []
    },
    "kernelspec": {
      "display_name": "base",
      "language": "python",
      "name": "python3"
    },
    "language_info": {
      "codemirror_mode": {
        "name": "ipython",
        "version": 3
      },
      "file_extension": ".py",
      "mimetype": "text/x-python",
      "name": "python",
      "nbconvert_exporter": "python",
      "pygments_lexer": "ipython3",
      "version": "3.9.19"
    }
  },
  "nbformat": 4,
  "nbformat_minor": 5
}
