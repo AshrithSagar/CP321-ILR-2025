{
  "cells": [
    {
      "cell_type": "markdown",
      "id": "a560ea52",
      "metadata": {},
      "source": [
        "# CP321-ILR: Assigment-8"
      ]
    },
    {
      "cell_type": "code",
      "execution_count": 1,
      "id": "d952db68-4a1a-44cb-9915-16a69bbe781c",
      "metadata": {
        "id": "d952db68-4a1a-44cb-9915-16a69bbe781c"
      },
      "outputs": [],
      "source": [
        "%reload_ext autoreload\n",
        "%autoreload 2\n",
        "\n",
        "from utils.utils import fit_promp"
      ]
    },
    {
      "cell_type": "markdown",
      "id": "7de7a903-6219-4c30-b9fa-a48f1fa11ad0",
      "metadata": {
        "id": "7de7a903-6219-4c30-b9fa-a48f1fa11ad0"
      },
      "source": [
        "# ProMP (Probablistic Movement Primitives)\n",
        "theory:[paper](https://papers.nips.cc/paper/2013/file/e53a0a2978c28872a4505bdb51db06dc-Paper.pdf)"
      ]
    },
    {
      "cell_type": "markdown",
      "id": "49c5f66a",
      "metadata": {},
      "source": [
        "## Dataset \"C\""
      ]
    },
    {
      "cell_type": "markdown",
      "id": "68c318cc",
      "metadata": {},
      "source": [
        "### 1. GAS point\n",
        "\n",
        "Does the system have a GAS (Global asymptotic Stable) point? Explain."
      ]
    },
    {
      "cell_type": "markdown",
      "id": "9816c335",
      "metadata": {},
      "source": [
        "#### Plots"
      ]
    },
    {
      "cell_type": "code",
      "execution_count": 2,
      "id": "1f969226",
      "metadata": {},
      "outputs": [],
      "source": [
        "fit_promp(dataset=\"c\")"
      ]
    },
    {
      "cell_type": "markdown",
      "id": "c05f2300",
      "metadata": {},
      "source": [
        "#### Analysis"
      ]
    },
    {
      "cell_type": "markdown",
      "id": "a73f1b77",
      "metadata": {},
      "source": []
    },
    {
      "cell_type": "markdown",
      "id": "032ff8ba",
      "metadata": {},
      "source": [
        "### 2. Different initial points\n",
        "\n",
        "Try conditioning on different initial points."
      ]
    },
    {
      "cell_type": "markdown",
      "id": "7b2c7991",
      "metadata": {},
      "source": [
        "#### Plots"
      ]
    },
    {
      "cell_type": "code",
      "execution_count": null,
      "id": "467ea8ca",
      "metadata": {},
      "outputs": [],
      "source": []
    },
    {
      "cell_type": "markdown",
      "id": "11260be8",
      "metadata": {},
      "source": [
        "### 3. Generalization of the algorithm\n",
        "\n",
        "Try changing the `nweights_per_dim` parameter and comment on the generalization of the algorithm."
      ]
    },
    {
      "cell_type": "markdown",
      "id": "ed8662cb",
      "metadata": {},
      "source": [
        "#### Plots"
      ]
    },
    {
      "cell_type": "code",
      "execution_count": null,
      "id": "cf381c63",
      "metadata": {},
      "outputs": [],
      "source": []
    },
    {
      "cell_type": "markdown",
      "id": "8816cbd8",
      "metadata": {},
      "source": [
        "#### Analysis"
      ]
    },
    {
      "cell_type": "markdown",
      "id": "9bfee863",
      "metadata": {},
      "source": []
    },
    {
      "cell_type": "markdown",
      "id": "da9afde2",
      "metadata": {},
      "source": [
        "## Dataset \"J\""
      ]
    },
    {
      "cell_type": "markdown",
      "id": "257e4b0d",
      "metadata": {},
      "source": [
        "### 1. GAS point\n",
        "\n",
        "Does the system have a GAS (Global asymptotic Stable) point? Explain."
      ]
    },
    {
      "cell_type": "markdown",
      "id": "29e7cc18",
      "metadata": {},
      "source": [
        "#### Plots"
      ]
    },
    {
      "cell_type": "code",
      "execution_count": 3,
      "id": "1c05ce1a",
      "metadata": {},
      "outputs": [],
      "source": [
        "fit_promp(dataset=\"j\")"
      ]
    },
    {
      "cell_type": "markdown",
      "id": "089bd321",
      "metadata": {},
      "source": [
        "#### Analysis"
      ]
    },
    {
      "cell_type": "markdown",
      "id": "7929b371",
      "metadata": {},
      "source": []
    },
    {
      "cell_type": "markdown",
      "id": "32c7d01b",
      "metadata": {},
      "source": [
        "### 2. Different initial points\n",
        "\n",
        "Try conditioning on different initial points."
      ]
    },
    {
      "cell_type": "markdown",
      "id": "b692454a",
      "metadata": {},
      "source": [
        "#### Plots"
      ]
    },
    {
      "cell_type": "code",
      "execution_count": null,
      "id": "642d9bc4",
      "metadata": {},
      "outputs": [],
      "source": []
    },
    {
      "cell_type": "markdown",
      "id": "e2e18905",
      "metadata": {},
      "source": [
        "### 3. Generalization of the algorithm\n",
        "\n",
        "Try changing the `nweights_per_dim` parameter and comment on the generalization of the algorithm."
      ]
    },
    {
      "cell_type": "markdown",
      "id": "28d9981a",
      "metadata": {},
      "source": [
        "#### Plots"
      ]
    },
    {
      "cell_type": "code",
      "execution_count": null,
      "id": "64c7775a",
      "metadata": {},
      "outputs": [],
      "source": []
    },
    {
      "cell_type": "markdown",
      "id": "e991d5a7",
      "metadata": {},
      "source": [
        "#### Analysis"
      ]
    },
    {
      "cell_type": "markdown",
      "id": "03fb8a37",
      "metadata": {},
      "source": []
    },
    {
      "cell_type": "markdown",
      "id": "acb54516",
      "metadata": {},
      "source": [
        "## Dataset \"S\""
      ]
    },
    {
      "cell_type": "markdown",
      "id": "6b9b976a",
      "metadata": {},
      "source": [
        "### 1. GAS point\n",
        "\n",
        "Does the system have a GAS (Global asymptotic Stable) point? Explain."
      ]
    },
    {
      "cell_type": "markdown",
      "id": "40d5bc22",
      "metadata": {},
      "source": [
        "#### Plots"
      ]
    },
    {
      "cell_type": "code",
      "execution_count": 4,
      "id": "343a5afe",
      "metadata": {},
      "outputs": [],
      "source": [
        "fit_promp(dataset=\"s\")"
      ]
    },
    {
      "cell_type": "markdown",
      "id": "ac0b3708",
      "metadata": {},
      "source": [
        "#### Analysis"
      ]
    },
    {
      "cell_type": "markdown",
      "id": "30c6dd31",
      "metadata": {},
      "source": []
    },
    {
      "cell_type": "markdown",
      "id": "5089cfc7",
      "metadata": {},
      "source": [
        "### 2. Different initial points\n",
        "\n",
        "Try conditioning on different initial points."
      ]
    },
    {
      "cell_type": "markdown",
      "id": "97195d7b",
      "metadata": {},
      "source": [
        "#### Plots"
      ]
    },
    {
      "cell_type": "code",
      "execution_count": null,
      "id": "7b429a7f",
      "metadata": {},
      "outputs": [],
      "source": []
    },
    {
      "cell_type": "markdown",
      "id": "fa1e78dc",
      "metadata": {},
      "source": [
        "### 3. Generalization of the algorithm\n",
        "\n",
        "Try changing the `nweights_per_dim` parameter and comment on the generalization of the algorithm."
      ]
    },
    {
      "cell_type": "markdown",
      "id": "e4be6c0d",
      "metadata": {},
      "source": [
        "#### Plots"
      ]
    },
    {
      "cell_type": "code",
      "execution_count": null,
      "id": "c53f38e8",
      "metadata": {},
      "outputs": [],
      "source": []
    },
    {
      "cell_type": "markdown",
      "id": "a684a0b6",
      "metadata": {},
      "source": [
        "#### Analysis"
      ]
    },
    {
      "cell_type": "markdown",
      "id": "0ded8cf8",
      "metadata": {},
      "source": []
    }
  ],
  "metadata": {
    "colab": {
      "provenance": []
    },
    "kernelspec": {
      "display_name": "base",
      "language": "python",
      "name": "python3"
    },
    "language_info": {
      "codemirror_mode": {
        "name": "ipython",
        "version": 3
      },
      "file_extension": ".py",
      "mimetype": "text/x-python",
      "name": "python",
      "nbconvert_exporter": "python",
      "pygments_lexer": "ipython3",
      "version": "3.9.19"
    }
  },
  "nbformat": 4,
  "nbformat_minor": 5
}
