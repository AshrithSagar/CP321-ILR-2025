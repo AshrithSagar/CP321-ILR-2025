{
  "cells": [
    {
      "cell_type": "markdown",
      "id": "33180763-9eed-4ae2-ba89-7e173f272887",
      "metadata": {
        "id": "33180763-9eed-4ae2-ba89-7e173f272887"
      },
      "source": [
        "# Add the lasa.py file in same directory as the jupyter notebook"
      ]
    },
    {
      "cell_type": "code",
      "execution_count": 2,
      "id": "d952db68-4a1a-44cb-9915-16a69bbe781c",
      "metadata": {
        "id": "d952db68-4a1a-44cb-9915-16a69bbe781c"
      },
      "outputs": [],
      "source": [
        "import numpy as np\n",
        "import matplotlib.pyplot as plt\n",
        "from functools import partial\n",
        "from lasa import load_lasa"
      ]
    },
    {
      "cell_type": "markdown",
      "id": "d2647bb4-c0d9-4aac-918b-9f238c00b031",
      "metadata": {
        "id": "d2647bb4-c0d9-4aac-918b-9f238c00b031"
      },
      "source": [
        "## Helper Functions for plotting and loading data"
      ]
    },
    {
      "cell_type": "code",
      "execution_count": 3,
      "id": "96ec68f5-2342-4788-a88f-06e43526696b",
      "metadata": {
        "id": "96ec68f5-2342-4788-a88f-06e43526696b"
      },
      "outputs": [],
      "source": [
        "def plot_curves(x,show_start_end=True,**kwargs):\n",
        "    '''\n",
        "    plots 2d curves of trajectories\n",
        "\n",
        "    params:\n",
        "        x: array of shape (number of curves,n_steps_per_curve,2)\n",
        "    '''\n",
        "    if show_start_end:\n",
        "        start_label,end_label = \"start\",\"end\"\n",
        "    else:\n",
        "        start_label,end_label = None,None\n",
        "    for t in range(x.shape[0]):\n",
        "        plt.scatter(x[t][0,0],x[t][0,1],c='k',label=start_label)\n",
        "        plt.scatter(x[t][-1,0],x[t][-1,1],c='b',label=end_label)\n",
        "        plt.plot(x[t][:,0],x[t][:,1],**kwargs)\n",
        "        if t==0:\n",
        "            kwargs.pop(\"label\",None)\n",
        "            start_label,end_label = None,None\n",
        "\n",
        "    plt.legend()\n",
        "\n",
        "\n",
        "def streamplot(f,x_axis=(0,100),y_axis=(0,100),n=1000,width=1,**kwargs):\n",
        "    '''\n",
        "    helps visualizing the vector field.\n",
        "\n",
        "    params:\n",
        "        f: function to predict the velocities in DS(Dynamical system : x_dot = f(x),x of shape (n_points,2),x_dot of shape (n_points,2))\n",
        "        x_axis: x axis limits\n",
        "        y_axis: y axis limits\n",
        "        n: number of points in each axis (so total n*n predictions happen)\n",
        "        width: width of the vector\n",
        "        **kwargs: goes into plt.streamplot\n",
        "    '''\n",
        "    a,b = np.linspace(x_axis[0],x_axis[1],n),np.linspace(y_axis[0],y_axis[1],n)\n",
        "    X,Y = np.meshgrid(a,b)\n",
        "    X_test = np.stack([X,Y],axis=-1).reshape(-1,2)\n",
        "    Y_pred = f(X_test)\n",
        "    U,V = np.split(Y_pred.reshape(n,n,2),2,axis=-1)\n",
        "    U,V = U[...,0],V[...,0]\n",
        "    speed = np.sqrt(U**2+V**2)\n",
        "    lw = width*speed / speed.max()\n",
        "    plt.streamplot(X,Y,U,V,linewidth=lw,**kwargs)\n",
        "\n",
        "\n",
        "#loading the data and plotting\n",
        "def load_data(letter):\n",
        "    '''\n",
        "    gets the trajectories coresponding to the given letter\n",
        "\n",
        "    params:\n",
        "      letter: character in [\"c\",\"j\",\"s\"]\n",
        "\n",
        "    returns:\n",
        "      data: array of shape (number of trajectories,number of timesteps,2)\n",
        "      x: array of shape(number of trajectories*number of timesteps,2)\n",
        "      xd: array of shape(number of trajectories*number of timesteps,2)\n",
        "\n",
        "    '''\n",
        "    letter2id = dict(c=2,j=6,s=24)\n",
        "    assert letter.lower() in letter2id\n",
        "    _,x,_,_,_,_ = load_lasa(letter2id[letter.lower()])\n",
        "    xds = []\n",
        "    for i in range(x.shape[0]):\n",
        "        dt = 1/(x[i].shape[0]-1)\n",
        "        xd = np.vstack((np.zeros((1, x[i].shape[1])), np.diff(x[i], axis=0) / dt))\n",
        "        xds.append(xd)\n",
        "    xd = np.stack(xds)\n",
        "    plot_curves(x)\n",
        "    data = x\n",
        "    plt.show()\n",
        "    return data,x,xd"
      ]
    },
    {
      "cell_type": "code",
      "execution_count": null,
      "id": "a642bb0b-7405-44ec-a31e-e4d48f1adf67",
      "metadata": {
        "id": "a642bb0b-7405-44ec-a31e-e4d48f1adf67"
      },
      "outputs": [],
      "source": [
        "#letter should be one of c,j,s\n",
        "data,x,xd = load_data(\"j\")\n",
        "data,x,xd = load_data(\"s\")\n",
        "data,x,xd = load_data(\"c\")"
      ]
    },
    {
      "cell_type": "code",
      "execution_count": null,
      "id": "296a7ce0-892b-441d-9a1a-6b6be2f5526a",
      "metadata": {
        "id": "296a7ce0-892b-441d-9a1a-6b6be2f5526a"
      },
      "outputs": [],
      "source": [
        "print(x.shape,xd.shape)"
      ]
    },
    {
      "cell_type": "markdown",
      "id": "7de7a903-6219-4c30-b9fa-a48f1fa11ad0",
      "metadata": {
        "id": "7de7a903-6219-4c30-b9fa-a48f1fa11ad0"
      },
      "source": [
        "# ProMP (Probablistic Movement Primitives)\n",
        "theory:[paper](https://papers.nips.cc/paper/2013/file/e53a0a2978c28872a4505bdb51db06dc-Paper.pdf)"
      ]
    },
    {
      "cell_type": "code",
      "execution_count": 6,
      "id": "e0754c2d-3e16-4315-8448-b96986485b82",
      "metadata": {
        "id": "e0754c2d-3e16-4315-8448-b96986485b82"
      },
      "outputs": [],
      "source": [
        "class ProMP:\n",
        "    def __init__(self,n_dims=2,nweights_per_dim=20):\n",
        "\n",
        "        self.n_dims = n_dims\n",
        "        self.nweights_per_dim = nweights_per_dim\n",
        "\n",
        "    def get_features(self,T,overlap=0.7):\n",
        "        '''\n",
        "        gaussian feature vector for time ,and its derivative\n",
        "\n",
        "        params:\n",
        "            T:1d array , query time for features\n",
        "            overlap: float(0.0-1.0) , heuristic for overlap between gaussians\n",
        "        returns:\n",
        "            rbfs.T : array(T x dim),feature vectors\n",
        "            rbfs_derivative.T : array(T x dim), derivative of feature vectors\n",
        "        '''\n",
        "        assert T.ndim == 1\n",
        "        assert np.max(T)<=1.0 and np.min(T)>=0.0\n",
        "        h = -1.0 / (8.0 * self.nweights_per_dim** 2 * np.log(overlap))\n",
        "        centers = np.linspace(0,1,self.nweights_per_dim)\n",
        "        rbfs = np.exp(-(T[None,...] - centers[...,None]) ** 2 / (2.0 * h))\n",
        "        rbfs_sum_per_step  = rbfs.sum(axis=0)\n",
        "        rbfs_deriv = (centers[...,None] - T[None,...]) / h\n",
        "        rbfs_deriv *= rbfs\n",
        "        rbfs_deriv_sum_per_step = rbfs_deriv.sum(axis=0)\n",
        "        rbfs_deriv = (\n",
        "             rbfs_deriv * rbfs_sum_per_step\n",
        "             - rbfs * rbfs_deriv_sum_per_step) / (rbfs_sum_per_step ** 2)\n",
        "        rbfs /= rbfs_sum_per_step\n",
        "        return rbfs.T,rbfs_deriv.T\n",
        "\n",
        "    def fit(self,x,xd):\n",
        "        '''\n",
        "        fits w for each trajectory and estimates mean,covariance of w\n",
        "        use the get_features method for feature calulation\n",
        "\n",
        "        params:\n",
        "            x:array of shape - (number of trajectories,n_steps,self.n_dims)\n",
        "        '''\n",
        "        #store the mean of w in self.mean_w -  array of shape(self.n_dim*self.nweights_per_dim,) (Note that this is a 1 dimensional array)\n",
        "        #store the covaraince of w in self.cov_w - array of shape(self.n_dim*self.nweights_per_dim,self.n_dim*self.nweights_per_dim) (2d array)\n",
        "        ################################\n",
        "        #YOUR CODE HERE\n",
        "\n",
        "        ################################\n",
        "\n",
        "\n",
        "    def sample_trajectories(self,n_sample,mean_w=None,cov_w=None):\n",
        "        '''\n",
        "        samples trajectories given mean_w and cov_w , if not given uses the default (self.mean_w,self.cov_w)\n",
        "        w ~ Normal(mean_w,cov_w)\n",
        "        x_sample = mean of p( x / w )\n",
        "\n",
        "        params:\n",
        "            n_sample : int , number of trajectories to sample\n",
        "            mean_w : array of shape - (self.nweights_per_dim*self.n_dims,)\n",
        "            cov_w : array of shape - (self.nweights_per_dim*self.n_dims,self.nweights_per_dim*self.n_dims)\n",
        "        returns:\n",
        "            x_sample:array of shape - (n_sample,1000,self.n_dims)\n",
        "\n",
        "        '''\n",
        "        #use this T for getting features as we trained assuming this T\n",
        "        T = np.linspace(0,1,1000)\n",
        "        ################################\n",
        "        #YOUR CODE HERE\n",
        "\n",
        "        ################################\n",
        "\n",
        "\n",
        "    def conditioning_on_xt(self,xt,t,cov = 0.0):\n",
        "        '''\n",
        "        changes the mean,covariance of the w based by conditioning on  x(t)\n",
        "\n",
        "        params:\n",
        "            xt : array of shape (self.n_dims,)\n",
        "            t : 0.0 or 1.0 => 0.0 corresponds to starting point, 1.0 corresponds to the ending point\n",
        "\n",
        "        returns:\n",
        "            new_mean : array of shape (self.nweights_per_dim*self.n_dims,)\n",
        "            new_cov : array of shape (self.nweights_per_dim*self.n_dims,self.nweights_per_dim*self.n_dims)\n",
        "        '''\n",
        "\n",
        "        assert xt.ndim==1\n",
        "        assert t<=1.0 and t>=0\n",
        "\n",
        "        y = np.zeros(2*len(xt))\n",
        "        y[::2]=xt\n",
        "\n",
        "        phi = np.vstack(self.get_features(np.array([t])))\n",
        "        phi = self._nd_block_diagonal(phi,self.n_dims)\n",
        "        phi = phi.T\n",
        "        common_term = self.cov_w@phi@np.linalg.pinv(cov*np.eye(len(phi.T))+phi.T@self.cov_w@phi)\n",
        "        new_mean_w = self.mean_w + common_term@(y-phi.T@self.mean_w)\n",
        "        new_cov_w = self.cov_w - common_term@phi.T@self.cov_w\n",
        "        return new_mean_w,new_cov_w\n",
        "\n",
        "\n",
        "\n",
        "\n",
        "    def _nd_block_diagonal(self,partial_1d, n_dims):\n",
        "        \"\"\"Replicates matrix n_dims times to form a block-diagonal matrix.\n",
        "\n",
        "        We also accept matrices of rectangular shape. In this case the result is\n",
        "        not officially called a block-diagonal matrix anymore.\n",
        "\n",
        "        Parameters\n",
        "        ----------\n",
        "        partial_1d : array, shape (n_block_rows, n_block_cols)\n",
        "            Matrix that should be replicated.\n",
        "\n",
        "        n_dims : int\n",
        "            Number of times that the matrix has to be replicated.\n",
        "\n",
        "        Returns\n",
        "        -------\n",
        "        full_nd : array, shape (n_block_rows * n_dims, n_block_cols * n_dims)\n",
        "            Block-diagonal matrix with n_dims replications of the initial matrix.\n",
        "        \"\"\"\n",
        "        assert partial_1d.ndim == 2\n",
        "        n_block_rows, n_block_cols = partial_1d.shape\n",
        "\n",
        "        full_nd = np.zeros((n_block_rows * n_dims, n_block_cols * n_dims))\n",
        "        for j in range(n_dims):\n",
        "            full_nd[n_block_rows * j:n_block_rows * (j + 1),\n",
        "                    n_block_cols * j:n_block_cols * (j + 1)] = partial_1d\n",
        "        return full_nd"
      ]
    },
    {
      "cell_type": "code",
      "execution_count": null,
      "id": "358de643-3293-4558-b9a2-baaeebbcad76",
      "metadata": {
        "id": "358de643-3293-4558-b9a2-baaeebbcad76"
      },
      "outputs": [],
      "source": [
        "#fit the model\n",
        "model = ProMP(n_dims=2,nweights_per_dim=20)\n",
        "model.fit(x,xd)"
      ]
    },
    {
      "cell_type": "code",
      "execution_count": null,
      "id": "473b31e3-ce5a-4ce8-ba7a-7dd07e715fac",
      "metadata": {
        "id": "473b31e3-ce5a-4ce8-ba7a-7dd07e715fac"
      },
      "outputs": [],
      "source": [
        "#sample different trajectories\n",
        "x_lim = [np.min(x[:,:,0])-10,np.max(x[:,:,0])+10]\n",
        "y_lim = [np.min(x[:,:,1])-10,np.max(x[:,:,1])+10]\n",
        "plt.xlim(x_lim)\n",
        "plt.ylim(y_lim)\n",
        "x_sample = model.sample_trajectories(100)\n",
        "plot_curves(x_sample,alpha = 0.2)"
      ]
    },
    {
      "cell_type": "code",
      "execution_count": null,
      "id": "cc3ef750-afa1-458a-8991-fbf41f881518",
      "metadata": {
        "id": "cc3ef750-afa1-458a-8991-fbf41f881518"
      },
      "outputs": [],
      "source": [
        "#conditioning on starting point\n",
        "x0 = x[0][-1]\n",
        "new_mean,new_cov = model.conditioning_on_xt(x0,1.0,0.0)\n",
        "x_sample = model.sample_trajectories(100,new_mean,new_cov)\n",
        "plt.xlim(x_lim)\n",
        "plt.ylim(y_lim)\n",
        "plot_curves(x_sample,alpha=0.2)"
      ]
    },
    {
      "cell_type": "markdown",
      "id": "33deb99b-a88b-46fb-b4e6-fcd303b7ce43",
      "metadata": {
        "id": "33deb99b-a88b-46fb-b4e6-fcd303b7ce43"
      },
      "source": [
        "# Fit the model to each of the data set and answer the following questions:\n",
        "\n",
        "**For \"C\" Dataset:**\n",
        "\n",
        "Q1.Does the system have a GAS (Global asymptotic Stable) Point ? Explain. \\\\\n",
        "Ans:\n",
        "\n",
        "Q2.Try conditioning on different initial points\n",
        "\n",
        "Q3.Try changing the nweights_per_dim parameter and comment on the generalization of the algorithm. \\\\\n",
        "Ans:\n",
        "\n",
        "**For \"J\" Dataset:**\n",
        "\n",
        "Q1.Does the system have a GAS (Global asymptotic Stable) Point ? Explain. \\\\\n",
        "Ans:\n",
        "\n",
        "Q2.Try conditioning on different initial points\n",
        "\n",
        "Q3.Try changing the nweights_per_dim parameter and comment on the generalization of the algorithm. \\\\\n",
        "Ans:\n",
        "\n",
        "**For \"S\" Dataset:**\n",
        "\n",
        "Q1.Does the system have a GAS (Global asymptotic Stable) Point ? Explain. \\\\\n",
        "Ans:\n",
        "\n",
        "Q2.Try conditioning on different initial points\n",
        "\n",
        "Q3.Try changing the nweights_per_dim parameter and comment on the generalization of the algorithm. \\\\\n",
        "Ans:"
      ]
    },
    {
      "cell_type": "code",
      "execution_count": 10,
      "id": "a4145780-aa6f-47f3-8472-5f928b859f10",
      "metadata": {
        "id": "a4145780-aa6f-47f3-8472-5f928b859f10"
      },
      "outputs": [],
      "source": [
        "####################\n",
        "#YOUR CODE HERE FOR ANSWERING THE ABOVE QUESTIONS\n",
        "####################"
      ]
    },
    {
      "cell_type": "markdown",
      "id": "90ed38ba-4eec-4398-a4a6-1d87309e7b00",
      "metadata": {
        "id": "90ed38ba-4eec-4398-a4a6-1d87309e7b00"
      },
      "source": [
        "# Submission details\n",
        "\n",
        "please submit the copy of this file with the naming convention **SRNO(5digit)_Assignment7.ipynb** \\\\\n",
        "example : 22592_Assignment8.ipynb"
      ]
    },
    {
      "cell_type": "code",
      "execution_count": null,
      "id": "13a16ba3-6047-4019-aa17-bf6db93ee422",
      "metadata": {
        "id": "13a16ba3-6047-4019-aa17-bf6db93ee422"
      },
      "outputs": [],
      "source": []
    }
  ],
  "metadata": {
    "colab": {
      "provenance": []
    },
    "kernelspec": {
      "display_name": "base",
      "language": "python",
      "name": "python3"
    },
    "language_info": {
      "codemirror_mode": {
        "name": "ipython",
        "version": 3
      },
      "file_extension": ".py",
      "mimetype": "text/x-python",
      "name": "python",
      "nbconvert_exporter": "python",
      "pygments_lexer": "ipython3",
      "version": "3.9.19"
    }
  },
  "nbformat": 4,
  "nbformat_minor": 5
}
