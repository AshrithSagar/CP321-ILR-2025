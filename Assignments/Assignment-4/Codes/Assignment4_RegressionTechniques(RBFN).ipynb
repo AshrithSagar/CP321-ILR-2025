{
  "cells": [
    {
      "cell_type": "markdown",
      "metadata": {
        "id": "Gtf5RwG8sxFm"
      },
      "source": [
        "# Add the lasa.py file in same directory as the jupyter notebook"
      ]
    },
    {
      "cell_type": "code",
      "execution_count": 4,
      "metadata": {
        "colab": {
          "base_uri": "https://localhost:8080/"
        },
        "id": "aG5JOrxvqXLr",
        "outputId": "d17ce682-3183-417e-8593-a39a9ea1119f"
      },
      "outputs": [
        {
          "name": "stdout",
          "output_type": "stream",
          "text": [
            "Requirement already satisfied: gmr in /usr/local/lib/python3.11/dist-packages (1.6.2)\n",
            "Requirement already satisfied: numpy in /usr/local/lib/python3.11/dist-packages (from gmr) (1.26.4)\n",
            "Requirement already satisfied: scipy in /usr/local/lib/python3.11/dist-packages (from gmr) (1.13.1)\n"
          ]
        }
      ],
      "source": [
        "!pip install gmr\n",
        "import numpy as np\n",
        "import matplotlib.pyplot as plt\n",
        "from lasa import load_lasa\n",
        "import gmr"
      ]
    },
    {
      "cell_type": "markdown",
      "metadata": {
        "id": "8_NRSz6as1RV"
      },
      "source": [
        "## Helper Functions for plotting and loading data"
      ]
    },
    {
      "cell_type": "code",
      "execution_count": 5,
      "metadata": {
        "id": "aH4WGDACqkAY"
      },
      "outputs": [],
      "source": [
        "def plot_curves(x,show_start_end=True,**kwargs):\n",
        "    '''\n",
        "    plots 2d curves of trajectories\n",
        "\n",
        "    params:\n",
        "        x: array of shape (number of curves,n_steps_per_curve,2)\n",
        "    '''\n",
        "    if show_start_end:\n",
        "        start_label,end_label = \"start\",\"end\"\n",
        "    else:\n",
        "        start_label,end_label = None,None\n",
        "    for t in range(x.shape[0]):\n",
        "        plt.scatter(x[t][0,0],x[t][0,1],c='k',label=start_label)\n",
        "        plt.scatter(x[t][-1,0],x[t][-1,1],c='b',label=end_label)\n",
        "        plt.plot(x[t][:,0],x[t][:,1],**kwargs)\n",
        "        if t==0:\n",
        "            kwargs.pop(\"label\",None)\n",
        "            start_label,end_label = None,None\n",
        "\n",
        "    plt.legend()\n",
        "\n",
        "\n",
        "def streamplot(f,x_axis=(0,100),y_axis=(0,100),n=1000,width=1,**kwargs):\n",
        "    '''\n",
        "    helps visualizing the vector field.\n",
        "\n",
        "    params:\n",
        "        f: function to predict the velocities in DS(Dynamical system : x_dot = f(x),x of shape (n_points,2),x_dot of shape (n_points,2))\n",
        "        x_axis: x axis limits\n",
        "        y_axis: y axis limits\n",
        "        n: number of points in each axis (so total n*n predictions happen)\n",
        "        width: width of the vector\n",
        "        **kwargs: goes into plt.streamplot\n",
        "    '''\n",
        "    a,b = np.linspace(x_axis[0],x_axis[1],n),np.linspace(y_axis[0],y_axis[1],n)\n",
        "    X,Y = np.meshgrid(a,b)\n",
        "    X_test = np.stack([X,Y],axis=-1).reshape(-1,2)\n",
        "    Y_pred = f(X_test)\n",
        "    U,V = np.split(Y_pred.reshape(n,n,2),2,axis=-1)\n",
        "    U,V = U[...,0],V[...,0]\n",
        "    speed = np.sqrt(U**2+V**2)\n",
        "    lw = width*speed / speed.max()\n",
        "    plt.streamplot(X,Y,U,V,linewidth=lw,**kwargs)\n",
        "\n",
        "#gets the velocity x_dot given x\n",
        "def derivative(x):\n",
        "    '''\n",
        "    difference method for calculating derivative\n",
        "\n",
        "    params:\n",
        "      x: array of shape (number of trajectories,number of timesteps,2)\n",
        "\n",
        "    returns\n",
        "      xd: array of shape (number of trajectories,number of timesteps,2)\n",
        "    '''\n",
        "    xds = []\n",
        "\n",
        "    for i in range(x.shape[0]):\n",
        "        dt = 1/(x[i].shape[0]-1)\n",
        "        xd = np.vstack((np.diff(x[i], axis=0) / dt,np.zeros((1, x[i].shape[1]))))\n",
        "        v_factor = np.cos(np.linspace(0,np.pi/2,len(xd)))**2\n",
        "        xd = xd*(v_factor[...,None])\n",
        "        xds.append(xd)\n",
        "    xd = np.stack(xds)\n",
        "    return xd\n",
        "\n",
        "#loading the data and plotting\n",
        "def load_data(letter):\n",
        "    '''\n",
        "    gets the trajectories coresponding to the given letter\n",
        "\n",
        "    params:\n",
        "      letter: character in [\"c\",\"j\",\"s\"]\n",
        "\n",
        "    returns:\n",
        "      data: array of shape (number of trajectories,number of timesteps,2)\n",
        "      x: array of shape(number of trajectories*number of timesteps,2)\n",
        "      xd: array of shape(number of trajectories*number of timesteps,2)\n",
        "\n",
        "    '''\n",
        "    letter2id = dict(c=2,j=6,s=24)\n",
        "    assert letter.lower() in letter2id\n",
        "    _,x,_,_,_,_ = load_lasa(letter2id[letter.lower()])\n",
        "    xd = derivative(x)\n",
        "    plot_curves(x)\n",
        "    data = x\n",
        "    x = x.reshape(-1,2)\n",
        "    xd = xd.reshape(-1,2)\n",
        "    plt.show()\n",
        "    return data,x,xd"
      ]
    },
    {
      "cell_type": "code",
      "execution_count": null,
      "metadata": {
        "id": "7MNyVYcWs6V6"
      },
      "outputs": [],
      "source": [
        "#letter should be one of c,j,s\n",
        "data,x,xd = load_data(\"j\")\n",
        "data,x,xd = load_data(\"s\")\n",
        "data,x,xd = load_data(\"c\")"
      ]
    },
    {
      "cell_type": "code",
      "execution_count": null,
      "metadata": {
        "id": "vkrQ2161s6yy"
      },
      "outputs": [],
      "source": [
        "def init_gaussians(y,n=3):\n",
        "    '''\n",
        "    initializes the gaussian based on time fragmentaion\n",
        "\n",
        "    params:\n",
        "        y : array of shape (number of trajectories,number of timesteps,2)\n",
        "    returns:\n",
        "        mvns: list of gmr.MVN() initialized objects\n",
        "    '''\n",
        "    l = y.shape[1]//n\n",
        "    y_split  = [y[:,i*l:] if i==n-1 else y[:,i*l:(i+1)*l] for i in range(n)]\n",
        "    mvns = [gmr.MVN().from_samples(x.reshape(-1,2)) for x in y_split]\n",
        "    splot = plt.subplot(111)\n",
        "    plot_curves(y)\n",
        "    for mvn in mvns:\n",
        "        gmr.plot_error_ellipse(splot,mvn,factors=[1])\n",
        "    return mvns\n",
        "\n",
        "mvns = init_gaussians(data,4)"
      ]
    },
    {
      "cell_type": "code",
      "execution_count": null,
      "metadata": {
        "id": "jsbVgujgtGzu"
      },
      "outputs": [],
      "source": [
        "class RBFN:\n",
        "    def __init__(self,mvns,bias=True):\n",
        "        '''\n",
        "            gaussians for weights\n",
        "        '''\n",
        "        self.mvns = mvns\n",
        "        self.bias = bias\n",
        "    def fit(self,X,Y):\n",
        "        '''\n",
        "        store the weight matrix into self.w\n",
        "\n",
        "        self.w should be array of shape (len(self.mvns)+1,2) if bias is enabled and\n",
        "        (len(self.mvns),2) if bias is False\n",
        "\n",
        "\n",
        "        params:\n",
        "            X: data of shape (n_points,2)\n",
        "            Y: X_dot of shape(n_points,2)\n",
        "        '''\n",
        "        ################################\n",
        "        #YOUR CODE HERE (you can use gmr package or can also write your own functions)\n",
        "\n",
        "\n",
        "        ################################\n",
        "\n",
        "\n",
        "    def predict(self,X):\n",
        "        '''\n",
        "        returns prediction from the model X_dot\n",
        "\n",
        "        params:\n",
        "            X: array of shape (n_points,2)\n",
        "        returns:\n",
        "            predicted X_dot: array of shape (n_points,2)\n",
        "        '''\n",
        "        ################################\n",
        "        #YOUR CODE HERE (you can use gmr package or can also write your own functions)\n",
        "\n",
        "\n",
        "        ################################\n",
        "\n",
        "\n",
        "    def ode_differential(self,x,t):\n",
        "        '''\n",
        "        function used for rk4 simulation\n",
        "        '''\n",
        "        return self.predict(x[None])[0]\n",
        "\n",
        "\n",
        "    def rk4_sim(self,t0,t_end,x0,f,dt=1e-3):\n",
        "        '''\n",
        "        simlution done with rk4\n",
        "\n",
        "        Returns\n",
        "        -------\n",
        "        x : shape (n_steps,self.d)\n",
        "        t : shape - (n_steps,)\n",
        "        '''\n",
        "        # Calculate slopes\n",
        "        x,t = x0,t0\n",
        "        x_list,t_list = [x0],[t0]\n",
        "        while t<=t_end:\n",
        "            k1 = dt*f(x,t)\n",
        "            k2 = dt*f(x+k1/2.,t+dt/2. )\n",
        "            k3 = dt*f(x+k2/2.,t+dt/2. )\n",
        "            k4 = dt*f(x+k3 , t+dt )\n",
        "\n",
        "            # Calculate new x and y\n",
        "            x = x + 1./6*(k1+2*k2+2*k3+k4)\n",
        "            t = t + dt\n",
        "            x_list.append(x)\n",
        "            t_list.append(t)\n",
        "\n",
        "        return np.array(x_list),np.array(t_list)\n",
        "\n",
        "    def imitate(self,x0,t_end=5):\n",
        "        '''\n",
        "        imitation with new starting point\n",
        "\n",
        "        Parameters\n",
        "        ----------\n",
        "        x0  - starting point - shape (self.d,)\n",
        "\n",
        "        Returns\n",
        "        -------\n",
        "        x_rk4 - simulated data  - shape (n_steps,self.d)\n",
        "        t_rk4 - time - shape (n_steps,)\n",
        "        '''\n",
        "        f = self.ode_differential\n",
        "        return self.rk4_sim(0,t_end,x0,f)"
      ]
    },
    {
      "cell_type": "code",
      "execution_count": null,
      "metadata": {
        "id": "Q2tHjPXovYp3"
      },
      "outputs": [],
      "source": [
        "#fitting the model to data\n",
        "model = RBFN(mvns,bias=False)\n",
        "model.fit(x,xd)\n",
        "\n",
        "#starting point for imitation\n",
        "x0 = data[0][0]\n",
        "x_rk4,t_tk4 = model.imitate(x0,t_end=10)\n",
        "\n",
        "#plots for generated trajectory\n",
        "plt.figure(figsize=(10,5))\n",
        "plot_curves(data,alpha=0.3,c=\"g\",label=\"demonstrations\")\n",
        "plot_curves(x_rk4[None],show_start_end=False,label=\"generated trajectory\")\n",
        "\n",
        "#vector field plot using stream line\n",
        "plt.figure(figsize=(10,5))\n",
        "plot_curves(data,alpha=0.5,c=\"b\",label=\"demonstrations\")\n",
        "\n",
        "streamplot(model.predict,x_axis=(min(x[:,0])-15,max(x[:,0])+15),y_axis=(min(x[:,1])-15,max(x[:,1])+15),width=3,color=\"g\")"
      ]
    },
    {
      "cell_type": "markdown",
      "metadata": {
        "id": "mZsYpq2bvmz_"
      },
      "source": [
        "#Fit the model to each of the data set and answer the following questions:\n",
        "\n",
        "**For \"C\" Dataset:**\n",
        "\n",
        "Q1.Does the system have a GAS (Global asymptotic Stable) Point ? Explain. \\\\\n",
        "Ans:\n",
        "\n",
        "Q2.Try different initial points, and simulate the process.\n",
        "\n",
        "Q3.Try changing the number of gaussians and comment on the generalization of the algorithm. \\\\\n",
        "Ans:\n",
        "\n",
        "**For \"J\" Dataset:**\n",
        "\n",
        "Q1.Does the system have a GAS (Global asymptotic Stable) Point ? Explain. \\\\\n",
        "Ans:\n",
        "\n",
        "Q2.Try different initial points, and simulate the process.\n",
        "\n",
        "Q3.Try changing the number of gaussians and comment on the generalization of the algorithm. \\\\\n",
        "Ans:\n",
        "\n",
        "**For \"S\" Dataset:**\n",
        "\n",
        "Q1.Does the system have a GAS (Global asymptotic Stable) Point ? Explain. \\\\\n",
        "Ans:\n",
        "\n",
        "Q2.Try different initial points, and simulate the process.\n",
        "\n",
        "Q3.Try changing the number of gaussians and comment on the generalization of the algorithm. \\\\\n",
        "Ans:"
      ]
    },
    {
      "cell_type": "code",
      "execution_count": 10,
      "metadata": {
        "id": "HQ2HPTEBvmdt"
      },
      "outputs": [],
      "source": [
        "####################\n",
        "#YOUR CODE HERE FOR ANSWERING THE ABOVE QUESTIONS\n",
        "####################"
      ]
    },
    {
      "cell_type": "markdown",
      "metadata": {
        "id": "HbfORufFv4bv"
      },
      "source": [
        "# Submission details\n",
        "\n",
        "please submit the copy of this file with the naming convention **SRNO(5digit)_Assignment4.ipynb**"
      ]
    }
  ],
  "metadata": {
    "colab": {
      "provenance": []
    },
    "kernelspec": {
      "display_name": "base",
      "language": "python",
      "name": "python3"
    },
    "language_info": {
      "name": "python",
      "version": "3.9.19"
    }
  },
  "nbformat": 4,
  "nbformat_minor": 0
}
